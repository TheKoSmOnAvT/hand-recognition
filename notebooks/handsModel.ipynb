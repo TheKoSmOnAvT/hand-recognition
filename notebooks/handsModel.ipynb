{
  "cells": [
    {
      "cell_type": "code",
      "execution_count": null,
      "metadata": {
        "id": "i9dAzea5x_NQ"
      },
      "outputs": [],
      "source": [
        "import pathlib\n",
        "import os, shutil\n",
        "import matplotlib.pyplot as plt\n",
        "import random\n",
        "import json\n",
        "\n",
        "from PIL import Image, ImageOps\n",
        "from IPython.display import Image as DImage\n",
        "\n",
        "from keras import layers, models\n",
        "from keras.models import Sequential, load_model\n",
        "from keras.layers import Dense, Conv2D , MaxPool2D , Flatten , Dropout , BatchNormalization, Activation\n",
        "from keras.preprocessing.image import ImageDataGenerator\n",
        "from keras.preprocessing import image\n",
        "\n",
        "from tensorflow.keras import optimizers\n",
        "from tensorflow.keras.utils import load_img, img_to_array, array_to_img\n",
        "\n",
        "from keras.applications.mobilenet_v2 import preprocess_input\n",
        "from keras.layers import Conv2D, MaxPooling2D\n",
        "from keras.constraints import maxnorm\n"
      ]
    },
    {
      "cell_type": "code",
      "execution_count": null,
      "metadata": {
        "id": "aBmq2HCh0KId"
      },
      "outputs": [],
      "source": [
        "class HandModel(object):\n",
        "    \n",
        "    def __init__(self):       \n",
        "        #инициализация модели\n",
        "        self.model  = models.Sequential()    \n",
        "    \n",
        "    #добавления слоя в модель\n",
        "    def add(self, layer):\n",
        "        self.model.add(layer)\n",
        "\n",
        "    #настройка модели\n",
        "    def compileModel(self, loss, optimizer, metrics):\n",
        "        self.model.compile(loss= loss, optimizer=optimizer, metrics=metrics)\n",
        "\n",
        "    #загрузка преобученной модели\n",
        "    def loadModel(self, pathToFile):\n",
        "        self.model = load_model(pathToFile)\n",
        "    \n",
        "    #обучение\n",
        "    def train(self, pathToFile, train_generator, validation_generator, steps_per_epoch, epochs,  batch_size, validation_steps): \n",
        "        self.epochs = epochs\n",
        "        self.history = self.model.fit(\n",
        "            train_generator,\n",
        "            steps_per_epoch=steps_per_epoch,\n",
        "            epochs=epochs,\n",
        "            validation_data=validation_generator,\n",
        "            validation_steps=validation_steps,\n",
        "            batch_size=batch_size)\n",
        "        self.model.save(pathToFile)\n",
        "    \n",
        "    def drawError(self):\n",
        "      acc = self.history.history['acc']\n",
        "      val_acc = self.history.history['val_acc']\n",
        "      loss = self.history.history['loss']\n",
        "      val_loss = self.history.history['val_loss']\n",
        "      epochs = range(1, self.epochs + 1)\n",
        "      plt.plot(epochs, acc, 'bo', label='Train acc')\n",
        "      plt.plot(epochs, val_acc, 'b', label='Validation acc')\n",
        "      plt.legend()\n",
        "      plt.figure()\n",
        "\n",
        "      plt.plot(epochs, loss, 'bo', label='Train loss')\n",
        "      plt.plot(epochs, val_loss, 'b', label='Validation loss')\n",
        "      plt.legend()\n",
        "      plt.figure()"
      ]
    },
    {
      "cell_type": "code",
      "execution_count": null,
      "metadata": {
        "id": "KQQj9gg32AlJ"
      },
      "outputs": [],
      "source": [
        "model = HandModel()\n",
        "\n",
        "\n",
        "model.add(Conv2D(32, (5, 5), padding='same', activation='relu', input_shape=(32, 32, 3)))\n",
        "model.add(MaxPooling2D(pool_size=(2, 2)))\n",
        "model.add(Conv2D(64, (5, 5), padding='same', activation='relu'))\n",
        "model.add(MaxPooling2D(pool_size=(2, 2)))\n",
        "model.add(Conv2D(128, (5, 5), padding='same', activation='relu'))\n",
        "model.add(MaxPooling2D(pool_size=(2, 2)))\n",
        "model.add(Flatten())\n",
        "model.add(Dense(128, activation='relu'))\n",
        "model.add(Dense(7, activation='softmax'))"
      ]
    },
    {
      "cell_type": "code",
      "source": [
        "from google.colab import drive\n",
        "drive.mount('/content/drive')\n"
      ],
      "metadata": {
        "id": "ol6lbOvxtOS6",
        "colab": {
          "base_uri": "https://localhost:8080/"
        },
        "outputId": "0785dc25-2fd5-4980-8709-eeae04e3758f"
      },
      "execution_count": null,
      "outputs": [
        {
          "output_type": "stream",
          "name": "stdout",
          "text": [
            "Drive already mounted at /content/drive; to attempt to forcibly remount, call drive.mount(\"/content/drive\", force_remount=True).\n"
          ]
        }
      ]
    },
    {
      "cell_type": "code",
      "execution_count": null,
      "metadata": {
        "id": "9sm0CUa2sabw",
        "colab": {
          "base_uri": "https://localhost:8080/"
        },
        "outputId": "89b641c5-1e73-4f94-9ee5-5bf0eae026ac"
      },
      "outputs": [
        {
          "output_type": "stream",
          "name": "stdout",
          "text": [
            "Found 103546 images belonging to 7 classes.\n",
            "Found 25883 images belonging to 7 classes.\n"
          ]
        }
      ],
      "source": [
        "original_datasets_dir = os.path.join(\"drive/MyDrive\", \"handData\")\n",
        "picture  = os.path.join(original_datasets_dir, \"cuts_full\")\n",
        "\n",
        "train_datagen = ImageDataGenerator(\n",
        "    rescale=1./255,\n",
        "    horizontal_flip=True,\n",
        "    vertical_flip=True,\n",
        "    validation_split=0.2\n",
        "    )\n",
        "\n",
        "train_generator = train_datagen.flow_from_directory(\n",
        "    picture,\n",
        "    target_size=(32, 32),\n",
        "    batch_size=16,\n",
        "    class_mode='categorical',\n",
        "    subset='training') # set as training data\n",
        "\n",
        "validation_generator = train_datagen.flow_from_directory(\n",
        "    picture, # same directory as training data\n",
        "    target_size=(32, 32),\n",
        "    batch_size=16,\n",
        "    class_mode='categorical',\n",
        "    subset='validation') # set as validation data\n",
        "\n",
        "loss='categorical_crossentropy'\n",
        "optimizer=\"Adam\"\n",
        "metrics=['acc']\n",
        "\n",
        "model.compileModel(loss, optimizer,metrics)"
      ]
    },
    {
      "cell_type": "code",
      "execution_count": null,
      "metadata": {
        "id": "iQSDMznDsab1",
        "colab": {
          "base_uri": "https://localhost:8080/"
        },
        "outputId": "6ed9e0b3-6ab3-4e87-d7d1-655223d53f73"
      },
      "outputs": [
        {
          "output_type": "stream",
          "name": "stdout",
          "text": [
            "Epoch 1/20\n",
            "40/40 [==============================] - 171s 4s/step - loss: 1.8417 - acc: 0.2000 - val_loss: 1.7522 - val_acc: 0.2500\n",
            "Epoch 2/20\n",
            "40/40 [==============================] - 132s 3s/step - loss: 1.8025 - acc: 0.2172 - val_loss: 1.8590 - val_acc: 0.2500\n",
            "Epoch 3/20\n",
            "40/40 [==============================] - 133s 3s/step - loss: 1.7310 - acc: 0.2656 - val_loss: 1.4838 - val_acc: 0.3125\n",
            "Epoch 4/20\n",
            "40/40 [==============================] - 132s 3s/step - loss: 1.4522 - acc: 0.4125 - val_loss: 1.1211 - val_acc: 0.5625\n",
            "Epoch 5/20\n",
            "40/40 [==============================] - 131s 3s/step - loss: 1.2316 - acc: 0.5500 - val_loss: 0.9545 - val_acc: 0.6875\n",
            "Epoch 6/20\n",
            "40/40 [==============================] - 130s 3s/step - loss: 1.0472 - acc: 0.6234 - val_loss: 0.6279 - val_acc: 0.8750\n",
            "Epoch 7/20\n",
            "40/40 [==============================] - 128s 3s/step - loss: 0.9068 - acc: 0.6812 - val_loss: 0.6036 - val_acc: 0.8125\n",
            "Epoch 8/20\n",
            "40/40 [==============================] - 128s 3s/step - loss: 0.7003 - acc: 0.7594 - val_loss: 0.6399 - val_acc: 0.7500\n",
            "Epoch 9/20\n",
            "40/40 [==============================] - 124s 3s/step - loss: 0.6728 - acc: 0.7594 - val_loss: 0.8239 - val_acc: 0.6875\n",
            "Epoch 10/20\n",
            "40/40 [==============================] - 125s 3s/step - loss: 0.6178 - acc: 0.7937 - val_loss: 0.8419 - val_acc: 0.6875\n",
            "Epoch 11/20\n",
            "40/40 [==============================] - 119s 3s/step - loss: 0.5933 - acc: 0.8234 - val_loss: 0.4801 - val_acc: 0.8750\n",
            "Epoch 12/20\n",
            "40/40 [==============================] - 124s 3s/step - loss: 0.4475 - acc: 0.8438 - val_loss: 0.5177 - val_acc: 0.7500\n",
            "Epoch 13/20\n",
            "40/40 [==============================] - 122s 3s/step - loss: 0.5336 - acc: 0.8250 - val_loss: 0.4530 - val_acc: 0.8125\n",
            "Epoch 14/20\n",
            "40/40 [==============================] - 125s 3s/step - loss: 0.5005 - acc: 0.8297 - val_loss: 0.5058 - val_acc: 0.8750\n",
            "Epoch 15/20\n",
            "40/40 [==============================] - 118s 3s/step - loss: 0.4223 - acc: 0.8562 - val_loss: 0.3402 - val_acc: 0.8750\n",
            "Epoch 16/20\n",
            "40/40 [==============================] - 121s 3s/step - loss: 0.4399 - acc: 0.8375 - val_loss: 0.5120 - val_acc: 0.8125\n",
            "Epoch 17/20\n",
            "40/40 [==============================] - 119s 3s/step - loss: 0.4719 - acc: 0.8469 - val_loss: 0.6284 - val_acc: 0.7500\n",
            "Epoch 18/20\n",
            "40/40 [==============================] - 121s 3s/step - loss: 0.4129 - acc: 0.8656 - val_loss: 0.5968 - val_acc: 0.8750\n",
            "Epoch 19/20\n",
            "40/40 [==============================] - 120s 3s/step - loss: 0.4909 - acc: 0.8500 - val_loss: 0.2535 - val_acc: 0.9375\n",
            "Epoch 20/20\n",
            "40/40 [==============================] - 120s 3s/step - loss: 0.3537 - acc: 0.8703 - val_loss: 0.3863 - val_acc: 0.8750\n"
          ]
        }
      ],
      "source": [
        "# from tensorflow.compat.v1 import ConfigProto\n",
        "# from tensorflow.compat.v1 import InteractiveSession\n",
        "\n",
        "# config = ConfigProto()\n",
        "# config.gpu_options.allow_growth = True\n",
        "# session = InteractiveSession(config=config)\n",
        "\n",
        "\n",
        "#train and safe\n",
        "batch_size = 32\n",
        "\n",
        "modelSavePath = os.path.join(pathlib.Path().resolve(),\"drive/MyDrive/handData/modelVER2.h5\")\n",
        "model.train(modelSavePath, \n",
        "                train_generator,\n",
        "                validation_generator,\n",
        "                steps_per_epoch = 40, \n",
        "                epochs=20,\n",
        "                validation_steps = 1,\n",
        "                batch_size = batch_size \n",
        "                )"
      ]
    },
    {
      "cell_type": "code",
      "source": [
        "model.drawError()"
      ],
      "metadata": {
        "id": "HVmBFvmWshO7",
        "colab": {
          "base_uri": "https://localhost:8080/",
          "height": 530
        },
        "outputId": "69a15dae-d3e5-4b7a-bcae-3d163cb8a790"
      },
      "execution_count": null,
      "outputs": [
        {
          "output_type": "display_data",
          "data": {
            "text/plain": [
              "<Figure size 432x288 with 1 Axes>"
            ],
            "image/png": "[encoded data removed]"
          },
          "metadata": {
            "needs_background": "light"
          }
        },
        {
          "output_type": "display_data",
          "data": {
            "text/plain": [
              "<Figure size 432x288 with 1 Axes>"
            ],
            "image/png": "[encoded data removed]"
          },
          "metadata": {
            "needs_background": "light"
          }
        },
        {
          "output_type": "display_data",
          "data": {
            "text/plain": [
              "<Figure size 432x288 with 0 Axes>"
            ]
          },
          "metadata": {}
        }
      ]
    },
    {
      "cell_type": "code",
      "source": [
        "from sklearn.metrics import classification_report\n",
        "import numpy as np"
      ],
      "metadata": {
        "id": "-BQM4-TPQzwW"
      },
      "execution_count": null,
      "outputs": []
    },
    {
      "cell_type": "code",
      "source": [
        "original_datasets_dir = os.path.join(\"drive/MyDrive\", \"handData\")\n",
        "picture  = os.path.join(original_datasets_dir, \"validation\")\n",
        "\n",
        "val_datagen = ImageDataGenerator(rescale=1./255    )\n",
        "\n",
        "validation = val_datagen.flow_from_directory(\n",
        "    picture,\n",
        "    target_size=(32, 32),\n",
        "    shuffle=False) # set as training data\n"
      ],
      "metadata": {
        "id": "CxQeew_CrxuR",
        "colab": {
          "base_uri": "https://localhost:8080/"
        },
        "outputId": "645e800a-1d8c-4a1c-b795-3e1d69309627"
      },
      "execution_count": null,
      "outputs": [
        {
          "output_type": "stream",
          "name": "stdout",
          "text": [
            "Found 1160 images belonging to 7 classes.\n"
          ]
        }
      ]
    },
    {
      "cell_type": "code",
      "source": [
        "y_pred = model.model.predict(validation, batch_size=16, verbose=1)"
      ],
      "metadata": {
        "id": "mc9odDdWaNsj",
        "colab": {
          "base_uri": "https://localhost:8080/"
        },
        "outputId": "b1e79bcb-c584-47d2-e5b9-29def7739be2"
      },
      "execution_count": null,
      "outputs": [
        {
          "output_type": "stream",
          "name": "stdout",
          "text": [
            "37/37 [==============================] - 56s 2s/step\n"
          ]
        }
      ]
    },
    {
      "cell_type": "code",
      "source": [
        "y_pred_bool = np.argmax(y_pred, axis=1)"
      ],
      "metadata": {
        "id": "S_q2sGAIqRIK"
      },
      "execution_count": null,
      "outputs": []
    },
    {
      "cell_type": "code",
      "source": [
        "validation.class_indices"
      ],
      "metadata": {
        "id": "zAobqv__pRyp",
        "colab": {
          "base_uri": "https://localhost:8080/"
        },
        "outputId": "80a57e18-17d1-4ff9-b570-6406e95d8d17"
      },
      "execution_count": null,
      "outputs": [
        {
          "output_type": "execute_result",
          "data": {
            "text/plain": [
              "{'call': 0, 'dislike': 1, 'like': 2, 'mute': 3, 'ok': 4, 'rock': 5, 'stop': 6}"
            ]
          },
          "metadata": {},
          "execution_count": 18
        }
      ]
    },
    {
      "cell_type": "code",
      "source": [
        "validation.samples"
      ],
      "metadata": {
        "id": "RGVhCkVsqMLT",
        "colab": {
          "base_uri": "https://localhost:8080/"
        },
        "outputId": "f9a03fe7-e7a9-4623-ed59-5e543afe8be5"
      },
      "execution_count": null,
      "outputs": [
        {
          "output_type": "execute_result",
          "data": {
            "text/plain": [
              "1160"
            ]
          },
          "metadata": {},
          "execution_count": 19
        }
      ]
    },
    {
      "cell_type": "code",
      "source": [
        "call = [0] * 167\n",
        "dislike = [1] * 164\n",
        "like = [2]* 160\n",
        "mute = [3]* 170\n",
        "ok = [4]* 166\n",
        "rock = [5]* 164\n",
        "stop = [6]* 169\n",
        "\n",
        "test_labels = call + dislike + like + mute + ok + rock + stop\n",
        "print(len(test_labels))"
      ],
      "metadata": {
        "id": "3sa81Z0yc73G",
        "colab": {
          "base_uri": "https://localhost:8080/"
        },
        "outputId": "a5c3adbc-62f8-4b55-bb5b-8eefb1e79bc6"
      },
      "execution_count": null,
      "outputs": [
        {
          "output_type": "stream",
          "name": "stdout",
          "text": [
            "1160\n"
          ]
        }
      ]
    },
    {
      "cell_type": "code",
      "source": [
        "print(classification_report( test_labels, y_pred_bool))"
      ],
      "metadata": {
        "id": "Buexr8sUc60N",
        "colab": {
          "base_uri": "https://localhost:8080/"
        },
        "outputId": "312e336b-c0ce-4e70-eb8d-36ee30bd1e71"
      },
      "execution_count": null,
      "outputs": [
        {
          "output_type": "stream",
          "name": "stdout",
          "text": [
            "              precision    recall  f1-score   support\n",
            "\n",
            "           0       0.12      0.16      0.14       167\n",
            "           1       0.16      0.20      0.18       164\n",
            "           2       0.00      0.00      0.00       160\n",
            "           3       0.15      0.23      0.18       170\n",
            "           4       0.12      0.14      0.13       166\n",
            "           5       0.15      0.24      0.18       164\n",
            "           6       0.06      0.01      0.01       169\n",
            "\n",
            "    accuracy                           0.14      1160\n",
            "   macro avg       0.11      0.14      0.12      1160\n",
            "weighted avg       0.11      0.14      0.12      1160\n",
            "\n"
          ]
        },
        {
          "output_type": "stream",
          "name": "stderr",
          "text": [
            "/usr/local/lib/python3.7/dist-packages/sklearn/metrics/_classification.py:1318: UndefinedMetricWarning: Precision and F-score are ill-defined and being set to 0.0 in labels with no predicted samples. Use `zero_division` parameter to control this behavior.\n",
            "  _warn_prf(average, modifier, msg_start, len(result))\n",
            "/usr/local/lib/python3.7/dist-packages/sklearn/metrics/_classification.py:1318: UndefinedMetricWarning: Precision and F-score are ill-defined and being set to 0.0 in labels with no predicted samples. Use `zero_division` parameter to control this behavior.\n",
            "  _warn_prf(average, modifier, msg_start, len(result))\n",
            "/usr/local/lib/python3.7/dist-packages/sklearn/metrics/_classification.py:1318: UndefinedMetricWarning: Precision and F-score are ill-defined and being set to 0.0 in labels with no predicted samples. Use `zero_division` parameter to control this behavior.\n",
            "  _warn_prf(average, modifier, msg_start, len(result))\n"
          ]
        }
      ]
    },
    {
      "cell_type": "code",
      "source": [],
      "metadata": {
        "id": "vVPEV9uwoA6j"
      },
      "execution_count": null,
      "outputs": []
    }
  ],
  "metadata": {
    "colab": {
      "provenance": []
    },
    "kernelspec": {
      "display_name": "Python 3 (ipykernel)",
      "language": "python",
      "name": "python3"
    },
    "language_info": {
      "codemirror_mode": {
        "name": "ipython",
        "version": 3
      },
      "file_extension": ".py",
      "mimetype": "text/x-python",
      "name": "python",
      "nbconvert_exporter": "python",
      "pygments_lexer": "ipython3",
      "version": "3.10.6"
    },
    "accelerator": "GPU",
    "gpuClass": "standard"
  },
  "nbformat": 4,
  "nbformat_minor": 0
}