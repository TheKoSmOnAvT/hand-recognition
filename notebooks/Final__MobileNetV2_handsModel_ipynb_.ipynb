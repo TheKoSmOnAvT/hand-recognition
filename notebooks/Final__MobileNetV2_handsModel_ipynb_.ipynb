{
  "cells": [
    {
      "cell_type": "code",
      "execution_count": null,
      "metadata": {
        "id": "i9dAzea5x_NQ"
      },
      "outputs": [],
      "source": [
        "import pathlib\n",
        "import os, shutil\n",
        "import matplotlib.pyplot as plt\n",
        "import random\n",
        "import json\n",
        "\n",
        "from PIL import Image, ImageOps\n",
        "from IPython.display import Image as DImage\n",
        "\n",
        "from keras import layers, models\n",
        "from keras.models import Sequential, load_model\n",
        "from keras.layers import Dense, Conv2D , MaxPool2D , Flatten , Dropout , BatchNormalization, Activation\n",
        "from keras.preprocessing.image import ImageDataGenerator\n",
        "from keras.preprocessing import image\n",
        "\n",
        "from tensorflow.keras import optimizers\n",
        "from tensorflow.keras.utils import load_img, img_to_array, array_to_img\n",
        "\n",
        "from keras.applications.mobilenet_v2 import preprocess_input"
      ]
    },
    {
      "cell_type": "code",
      "source": [
        "from keras.callbacks import Callback,ModelCheckpoint"
      ],
      "metadata": {
        "id": "nTxRCoDaNas3"
      },
      "execution_count": null,
      "outputs": []
    },
    {
      "cell_type": "code",
      "execution_count": null,
      "metadata": {
        "id": "tBlid4seDh7n"
      },
      "outputs": [],
      "source": [
        "import numpy as np\n",
        "import os\n",
        "import tensorflow as tf"
      ]
    },
    {
      "cell_type": "code",
      "source": [
        "import tensorflow_hub as hub"
      ],
      "metadata": {
        "id": "WD7dzwzFyXR2"
      },
      "execution_count": null,
      "outputs": []
    },
    {
      "cell_type": "code",
      "execution_count": null,
      "metadata": {
        "colab": {
          "base_uri": "https://localhost:8080/"
        },
        "id": "ol6lbOvxtOS6",
        "outputId": "41ea546d-9b20-4d9c-968d-6514234bb305"
      },
      "outputs": [
        {
          "output_type": "stream",
          "name": "stdout",
          "text": [
            "Mounted at /content/drive\n"
          ]
        }
      ],
      "source": [
        "from google.colab import drive\n",
        "drive.mount('/content/drive')\n",
        "\n",
        "\n"
      ]
    },
    {
      "cell_type": "code",
      "execution_count": null,
      "metadata": {
        "id": "QYh7h9nuiIOr"
      },
      "outputs": [],
      "source": [
        "from keras import backend as K"
      ]
    },
    {
      "cell_type": "code",
      "execution_count": null,
      "metadata": {
        "id": "xJID1k5th9pH"
      },
      "outputs": [],
      "source": [
        "def recall_m(y_true, y_pred):\n",
        "    true_positives = K.sum(K.round(K.clip(y_true * y_pred, 0, 1)))\n",
        "    possible_positives = K.sum(K.round(K.clip(y_true, 0, 1)))\n",
        "    recall = true_positives / (possible_positives + K.epsilon())\n",
        "    return recall\n",
        "\n",
        "def precision_m(y_true, y_pred):\n",
        "    true_positives = K.sum(K.round(K.clip(y_true * y_pred, 0, 1)))\n",
        "    predicted_positives = K.sum(K.round(K.clip(y_pred, 0, 1)))\n",
        "    precision = true_positives / (predicted_positives + K.epsilon())\n",
        "    return precision\n",
        "\n",
        "def f1_m(y_true, y_pred):\n",
        "    precision = precision_m(y_true, y_pred)\n",
        "    recall = recall_m(y_true, y_pred)\n",
        "    return 2*((precision*recall)/(precision+recall+K.epsilon()))\n",
        "\n"
      ]
    },
    {
      "cell_type": "code",
      "source": [
        "class MobileNet(object):\n",
        "    \n",
        "    def __init__(self):       \n",
        "        #инициализация модели\n",
        "        num_classes = 7\n",
        "        model_url = \"https://tfhub.dev/google/tf2-preview/mobilenet_v2/feature_vector/4\"\n",
        "        inp = tf.keras.layers.Input((250, 250,3))\n",
        "        resize_img = tf.keras.layers.Lambda(lambda image: tf.image.resize(image, (224,224)))\n",
        "\n",
        "        feature_extractor_layer = hub.KerasLayer(model_url, trainable=False, \n",
        "                                                name=\"feature_extractor_layer\", \n",
        "                                                input_shape=(224,224,3))\n",
        "        self.model = models.Sequential([\n",
        "                                    inp,\n",
        "                                    resize_img,\n",
        "                                    feature_extractor_layer, \n",
        "                                    tf.keras.layers.Dense(num_classes, \n",
        "                                                          activation=\"softmax\", \n",
        "                                                          name=\"output_layer\")\n",
        "                                    ])\n",
        "\n",
        "        #self.model  = models.Sequential()    \n",
        "    \n",
        "    #добавления слоя в модель\n",
        "    def addlayer(self, layer):\n",
        "        self.model.add(layer)\n",
        "\n",
        "    #настройка модели\n",
        "    def compileModel(self, loss, optimizer, metrics):\n",
        "        self.model.compile(loss= loss, optimizer=optimizer, metrics=metrics)\n",
        "\n",
        "\n",
        "    #загрузка преобученной модели\n",
        "    def loadModel(self, pathToFile):\n",
        "        self.model = load_model(pathToFile)\n",
        "    \n",
        "    #обучение\n",
        "    def train(self, pathToFile, train_generator, validation_generator, steps_per_epoch, epochs, validation_steps,  batch_size, callbacks): #validation_steps,\n",
        "        self.epochs = epochs\n",
        "        self.history = self.model.fit(\n",
        "            train_generator,\n",
        "            steps_per_epoch=steps_per_epoch,\n",
        "            epochs=epochs,\n",
        "            validation_data=validation_generator,\n",
        "            validation_steps=validation_steps,\n",
        "            batch_size=batch_size,\n",
        "            callbacks=callbacks)\n",
        "        self.model.save(pathToFile)\n",
        "    \n",
        "    def drawError(self):\n",
        "      acc = self.history.history['acc']\n",
        "      val_acc = self.history.history['val_acc']\n",
        "      loss = self.history.history['loss']\n",
        "      val_loss = self.history.history['val_loss']\n",
        "      epochs = range(1, self.epochs + 1)\n",
        "      plt.plot(epochs, acc, 'bo', label='Train acc')\n",
        "      plt.plot(epochs, val_acc, 'b', label='Validation acc')\n",
        "      plt.legend()\n",
        "      plt.figure()\n",
        "\n",
        "      plt.plot(epochs, loss, 'bo', label='Train loss')\n",
        "      plt.plot(epochs, val_loss, 'b', label='Validation loss')\n",
        "      plt.legend()\n",
        "      plt.figure()"
      ],
      "metadata": {
        "id": "F-B5gqRjY1G5"
      },
      "execution_count": null,
      "outputs": []
    },
    {
      "cell_type": "code",
      "execution_count": null,
      "metadata": {
        "colab": {
          "base_uri": "https://localhost:8080/"
        },
        "id": "9sm0CUa2sabw",
        "outputId": "e6756b95-3dab-4ca7-ef06-4387ed9eb5b0"
      },
      "outputs": [
        {
          "output_type": "stream",
          "name": "stdout",
          "text": [
            "Found 103546 images belonging to 7 classes.\n",
            "Found 25883 images belonging to 7 classes.\n"
          ]
        }
      ],
      "source": [
        "BATCH_SIZE = 32\n",
        "IMG_SIZE = (250, 250)\n",
        "\n",
        "original_datasets_dir = os.path.join(\"drive/MyDrive\", \"handData\")\n",
        "picture  = os.path.join(original_datasets_dir, \"cuts_full\")\n",
        "\n",
        "train_datagen = ImageDataGenerator(\n",
        "    rescale=1./255,\n",
        "    horizontal_flip=True,\n",
        "    vertical_flip=True,\n",
        "    validation_split=0.2\n",
        "    )\n",
        "\n",
        "train_generator = train_datagen.flow_from_directory(\n",
        "    picture,\n",
        "    target_size=IMG_SIZE,\n",
        "    batch_size=BATCH_SIZE,\n",
        "    class_mode='categorical',\n",
        "    subset='training') # set as training data\n",
        "\n",
        "validation_generator = train_datagen.flow_from_directory(\n",
        "    picture, # same directory as training data\n",
        "    target_size=IMG_SIZE,\n",
        "    batch_size=BATCH_SIZE,\n",
        "    class_mode='categorical',\n",
        "    subset='validation') # set as validation data\n"
      ]
    },
    {
      "cell_type": "code",
      "source": [
        "train_generator.class_indices"
      ],
      "metadata": {
        "id": "4DFjJPtusYhP",
        "colab": {
          "base_uri": "https://localhost:8080/"
        },
        "outputId": "0d76fed9-b8cd-4e69-de19-3559aeb3241e"
      },
      "execution_count": null,
      "outputs": [
        {
          "output_type": "execute_result",
          "data": {
            "text/plain": [
              "{'call': 0, 'dislike': 1, 'like': 2, 'mute': 3, 'ok': 4, 'rock': 5, 'stop': 6}"
            ]
          },
          "metadata": {},
          "execution_count": 16
        }
      ]
    },
    {
      "cell_type": "code",
      "source": [
        "model = MobileNet()"
      ],
      "metadata": {
        "id": "KwYznW87bjk5"
      },
      "execution_count": null,
      "outputs": []
    },
    {
      "cell_type": "code",
      "source": [
        "model"
      ],
      "metadata": {
        "colab": {
          "base_uri": "https://localhost:8080/"
        },
        "id": "T-rX9iY9bmPc",
        "outputId": "c3e66626-51c0-4153-e63c-e85e9b5cdd97"
      },
      "execution_count": null,
      "outputs": [
        {
          "output_type": "execute_result",
          "data": {
            "text/plain": [
              "<__main__.MobileNet at 0x7f34dc4e1fd0>"
            ]
          },
          "metadata": {},
          "execution_count": 18
        }
      ]
    },
    {
      "cell_type": "markdown",
      "source": [
        "mobilenet_model = create_model(mobilenet_url, num_classes=7)\n",
        "mobilenet_model.compile(loss='categorical_crossentropy',optimizer=tf.keras.optimizers.Adam(),metrics=['accuracy'])\n",
        "history = mobilenet_model.fit(train_generator, epochs=5, steps_per_epoch=len(train_generator),\n",
        "                              validation_data=validation_generator,validation_steps=len(validation_generator))"
      ],
      "metadata": {
        "id": "xCCfbtE_mZDA"
      }
    },
    {
      "cell_type": "code",
      "source": [
        "loss='categorical_crossentropy'\n",
        "optimizer=\"Adam\"\n",
        "metrics=['acc', recall_m, precision_m, f1_m]"
      ],
      "metadata": {
        "id": "i8nJyC1PbQUx"
      },
      "execution_count": null,
      "outputs": []
    },
    {
      "cell_type": "code",
      "source": [
        "model.compileModel(loss, optimizer,metrics)\n"
      ],
      "metadata": {
        "id": "ehyXKUNFbe_t"
      },
      "execution_count": null,
      "outputs": []
    },
    {
      "cell_type": "code",
      "source": [
        "callbacks = [ModelCheckpoint(filepath='/content/drive/MyDrive/Colab Notebooks/model_mobile.h5', save_best_only=True)]"
      ],
      "metadata": {
        "id": "BSYQFhK7NP4V"
      },
      "execution_count": null,
      "outputs": []
    },
    {
      "cell_type": "code",
      "source": [
        "modelSavePath = os.path.join(pathlib.Path().resolve(),\"/content/drive/MyDrive/Colab Notebooks/model_mobile.h5\")\n",
        "model.train(modelSavePath, \n",
        "                train_generator,\n",
        "                validation_generator,\n",
        "                steps_per_epoch=20,\n",
        "                epochs=20,\n",
        "                validation_steps=2,\n",
        "                batch_size = 16,\n",
        "                callbacks = callbacks) #50"
      ],
      "metadata": {
        "colab": {
          "base_uri": "https://localhost:8080/"
        },
        "id": "FLh_SJQUYTic",
        "outputId": "28f6a30b-0edc-4be5-be42-a4f80a040270"
      },
      "execution_count": null,
      "outputs": [
        {
          "output_type": "stream",
          "name": "stdout",
          "text": [
            "Epoch 1/20\n",
            "20/20 [==============================] - 275s 13s/step - loss: 1.8267 - acc: 0.3094 - recall_m: 0.1078 - precision_m: 0.4575 - f1_m: 0.1716 - val_loss: 1.2148 - val_acc: 0.6719 - val_recall_m: 0.2500 - val_precision_m: 0.9000 - val_f1_m: 0.3905\n",
            "Epoch 2/20\n",
            "20/20 [==============================] - 268s 13s/step - loss: 1.1318 - acc: 0.6203 - recall_m: 0.3594 - precision_m: 0.8029 - f1_m: 0.4921 - val_loss: 0.8247 - val_acc: 0.7812 - val_recall_m: 0.5469 - val_precision_m: 0.8759 - val_f1_m: 0.6730\n",
            "Epoch 3/20\n",
            "20/20 [==============================] - 266s 13s/step - loss: 0.8118 - acc: 0.7563 - recall_m: 0.5609 - precision_m: 0.9098 - f1_m: 0.6894 - val_loss: 0.7134 - val_acc: 0.6875 - val_recall_m: 0.5625 - val_precision_m: 0.9444 - val_f1_m: 0.7046\n",
            "Epoch 4/20\n",
            "20/20 [==============================] - 264s 13s/step - loss: 0.7055 - acc: 0.7656 - recall_m: 0.6359 - precision_m: 0.8885 - f1_m: 0.7385 - val_loss: 0.5836 - val_acc: 0.8125 - val_recall_m: 0.6719 - val_precision_m: 0.8805 - val_f1_m: 0.7602\n",
            "Epoch 5/20\n",
            "20/20 [==============================] - 264s 13s/step - loss: 0.6096 - acc: 0.8094 - recall_m: 0.7078 - precision_m: 0.8955 - f1_m: 0.7888 - val_loss: 0.6126 - val_acc: 0.8438 - val_recall_m: 0.6719 - val_precision_m: 0.8969 - val_f1_m: 0.7669\n",
            "Epoch 6/20\n",
            "20/20 [==============================] - 261s 13s/step - loss: 0.6114 - acc: 0.8203 - recall_m: 0.7391 - precision_m: 0.8911 - f1_m: 0.8065 - val_loss: 0.5211 - val_acc: 0.8594 - val_recall_m: 0.7500 - val_precision_m: 0.8889 - val_f1_m: 0.8136\n",
            "Epoch 7/20\n",
            "20/20 [==============================] - 255s 13s/step - loss: 0.5136 - acc: 0.8656 - recall_m: 0.7719 - precision_m: 0.9282 - f1_m: 0.8420 - val_loss: 0.5067 - val_acc: 0.8281 - val_recall_m: 0.7344 - val_precision_m: 0.8868 - val_f1_m: 0.8033\n",
            "Epoch 8/20\n",
            "20/20 [==============================] - 262s 13s/step - loss: 0.4620 - acc: 0.8687 - recall_m: 0.8047 - precision_m: 0.9432 - f1_m: 0.8666 - val_loss: 0.4564 - val_acc: 0.8594 - val_recall_m: 0.8438 - val_precision_m: 0.9667 - val_f1_m: 0.8999\n",
            "Epoch 9/20\n",
            "20/20 [==============================] - 258s 13s/step - loss: 0.4142 - acc: 0.8781 - recall_m: 0.8219 - precision_m: 0.9290 - f1_m: 0.8716 - val_loss: 0.3377 - val_acc: 0.8906 - val_recall_m: 0.8281 - val_precision_m: 0.9643 - val_f1_m: 0.8910\n",
            "Epoch 10/20\n",
            "20/20 [==============================] - 254s 13s/step - loss: 0.4219 - acc: 0.8969 - recall_m: 0.8266 - precision_m: 0.9362 - f1_m: 0.8773 - val_loss: 0.4662 - val_acc: 0.8438 - val_recall_m: 0.7656 - val_precision_m: 0.8909 - val_f1_m: 0.8234\n",
            "Epoch 11/20\n",
            "20/20 [==============================] - 253s 13s/step - loss: 0.3811 - acc: 0.8984 - recall_m: 0.8531 - precision_m: 0.9401 - f1_m: 0.8943 - val_loss: 0.4260 - val_acc: 0.9062 - val_recall_m: 0.8438 - val_precision_m: 0.9643 - val_f1_m: 0.9000\n",
            "Epoch 12/20\n",
            "20/20 [==============================] - 253s 13s/step - loss: 0.3912 - acc: 0.8828 - recall_m: 0.8391 - precision_m: 0.9357 - f1_m: 0.8839 - val_loss: 0.3390 - val_acc: 0.8906 - val_recall_m: 0.8125 - val_precision_m: 0.9443 - val_f1_m: 0.8728\n",
            "Epoch 13/20\n",
            "20/20 [==============================] - 251s 13s/step - loss: 0.3740 - acc: 0.9016 - recall_m: 0.8422 - precision_m: 0.9375 - f1_m: 0.8867 - val_loss: 0.2637 - val_acc: 0.9219 - val_recall_m: 0.9219 - val_precision_m: 0.9672 - val_f1_m: 0.9439\n",
            "Epoch 14/20\n",
            "20/20 [==============================] - 242s 12s/step - loss: 0.4206 - acc: 0.8641 - recall_m: 0.8266 - precision_m: 0.9241 - f1_m: 0.8717 - val_loss: 0.3459 - val_acc: 0.8594 - val_recall_m: 0.8438 - val_precision_m: 0.9655 - val_f1_m: 0.9002\n",
            "Epoch 15/20\n",
            "20/20 [==============================] - 242s 12s/step - loss: 0.3282 - acc: 0.8984 - recall_m: 0.8594 - precision_m: 0.9314 - f1_m: 0.8934 - val_loss: 0.1738 - val_acc: 0.9688 - val_recall_m: 0.9219 - val_precision_m: 1.0000 - val_f1_m: 0.9587\n",
            "Epoch 16/20\n",
            "20/20 [==============================] - 244s 12s/step - loss: 0.2856 - acc: 0.9156 - recall_m: 0.8828 - precision_m: 0.9482 - f1_m: 0.9137 - val_loss: 0.3354 - val_acc: 0.9062 - val_recall_m: 0.7969 - val_precision_m: 0.8963 - val_f1_m: 0.8431\n",
            "Epoch 17/20\n",
            "20/20 [==============================] - 246s 12s/step - loss: 0.3208 - acc: 0.9047 - recall_m: 0.8641 - precision_m: 0.9454 - f1_m: 0.9022 - val_loss: 0.2478 - val_acc: 0.9375 - val_recall_m: 0.9375 - val_precision_m: 0.9677 - val_f1_m: 0.9524\n",
            "Epoch 18/20\n",
            "20/20 [==============================] - 241s 12s/step - loss: 0.2897 - acc: 0.9172 - recall_m: 0.8750 - precision_m: 0.9455 - f1_m: 0.9084 - val_loss: 0.4121 - val_acc: 0.8594 - val_recall_m: 0.8125 - val_precision_m: 0.8937 - val_f1_m: 0.8501\n",
            "Epoch 19/20\n",
            "20/20 [==============================] - 238s 12s/step - loss: 0.2940 - acc: 0.9297 - recall_m: 0.8844 - precision_m: 0.9644 - f1_m: 0.9223 - val_loss: 0.2180 - val_acc: 0.9531 - val_recall_m: 0.8906 - val_precision_m: 0.9655 - val_f1_m: 0.9265\n",
            "Epoch 20/20\n",
            "20/20 [==============================] - 233s 12s/step - loss: 0.2959 - acc: 0.9156 - recall_m: 0.8906 - precision_m: 0.9512 - f1_m: 0.9196 - val_loss: 0.1789 - val_acc: 0.9688 - val_recall_m: 0.9531 - val_precision_m: 0.9839 - val_f1_m: 0.9683\n"
          ]
        }
      ]
    },
    {
      "cell_type": "code",
      "source": [
        "model.drawError()"
      ],
      "metadata": {
        "id": "VJ0-ObaAmw8C",
        "colab": {
          "base_uri": "https://localhost:8080/",
          "height": 534
        },
        "outputId": "f00b6c9f-9aa3-4568-b064-67b655578692"
      },
      "execution_count": null,
      "outputs": [
        {
          "output_type": "display_data",
          "data": {
            "text/plain": [
              "<Figure size 432x288 with 1 Axes>"
            ],
            "image/png": "[encoded data removed]"
          },
          "metadata": {
            "needs_background": "light"
          }
        },
        {
          "output_type": "display_data",
          "data": {
            "text/plain": [
              "<Figure size 432x288 with 1 Axes>"
            ],
            "image/png": "[encoded data removed]"
          },
          "metadata": {
            "needs_background": "light"
          }
        },
        {
          "output_type": "display_data",
          "data": {
            "text/plain": [
              "<Figure size 432x288 with 0 Axes>"
            ]
          },
          "metadata": {}
        }
      ]
    },
    {
      "cell_type": "code",
      "source": [
        "f_1 = model.history.history['f1_m']\n",
        "val_f_1 = model.history.history['val_f1_m']\n",
        "precision = model.history.history['precision_m']\n",
        "val_precision = model.history.history['val_precision_m']\n",
        "epochs = range(1, model.epochs + 1)\n",
        "plt.plot(epochs, f_1, 'bo', label='Train F1')\n",
        "plt.plot(epochs, val_f_1, 'b', label='Validation F1')\n",
        "plt.legend()\n",
        "plt.figure()\n",
        "\n",
        "plt.plot(epochs, precision, 'bo', label='Train precision')\n",
        "plt.plot(epochs, val_precision, 'b', label='Validation precision')\n",
        "plt.legend()\n",
        "plt.figure()"
      ],
      "metadata": {
        "colab": {
          "base_uri": "https://localhost:8080/",
          "height": 550
        },
        "id": "ezKUTy0TkCXz",
        "outputId": "b131ba82-6e60-4b22-8b68-72cfb1b87e1f"
      },
      "execution_count": null,
      "outputs": [
        {
          "output_type": "execute_result",
          "data": {
            "text/plain": [
              "<Figure size 432x288 with 0 Axes>"
            ]
          },
          "metadata": {},
          "execution_count": 25
        },
        {
          "output_type": "display_data",
          "data": {
            "text/plain": [
              "<Figure size 432x288 with 1 Axes>"
            ],
            "image/png": "[encoded data removed]"
          },
          "metadata": {
            "needs_background": "light"
          }
        },
        {
          "output_type": "display_data",
          "data": {
            "text/plain": [
              "<Figure size 432x288 with 1 Axes>"
            ],
            "image/png": "[encoded data removed]"
          },
          "metadata": {
            "needs_background": "light"
          }
        },
        {
          "output_type": "display_data",
          "data": {
            "text/plain": [
              "<Figure size 432x288 with 0 Axes>"
            ]
          },
          "metadata": {}
        }
      ]
    },
    {
      "cell_type": "code",
      "source": [
        "recall = model.history.history['recall_m']\n",
        "val_recall = model.history.history['val_recall_m']\n",
        "epochs = range(1, model.epochs + 1)\n",
        "plt.plot(epochs, recall, 'bo', label='Train recall')\n",
        "plt.plot(epochs, val_recall, 'b', label='Validation recall')\n",
        "plt.legend()\n",
        "plt.figure()\n"
      ],
      "metadata": {
        "colab": {
          "base_uri": "https://localhost:8080/",
          "height": 300
        },
        "id": "D0hhMAxolBp_",
        "outputId": "1a32836c-d220-4351-fc51-d70f5f80e661"
      },
      "execution_count": null,
      "outputs": [
        {
          "output_type": "execute_result",
          "data": {
            "text/plain": [
              "<Figure size 432x288 with 0 Axes>"
            ]
          },
          "metadata": {},
          "execution_count": 26
        },
        {
          "output_type": "display_data",
          "data": {
            "text/plain": [
              "<Figure size 432x288 with 1 Axes>"
            ],
            "image/png": "[encoded data removed]"
          },
          "metadata": {
            "needs_background": "light"
          }
        },
        {
          "output_type": "display_data",
          "data": {
            "text/plain": [
              "<Figure size 432x288 with 0 Axes>"
            ]
          },
          "metadata": {}
        }
      ]
    },
    {
      "cell_type": "code",
      "source": [
        "original_datasets_dir = os.path.join(\"drive/MyDrive\", \"handData\")\n",
        "picture_test  = os.path.join(original_datasets_dir, \"cuts_mini\")\n",
        "\n",
        "test_datagen = ImageDataGenerator(\n",
        "    rescale=1./255,\n",
        "    horizontal_flip=True,\n",
        "    vertical_flip=True,\n",
        "    validation_split=0.2\n",
        "    )\n",
        "\n",
        "test_generator = train_datagen.flow_from_directory(\n",
        "    picture_test, # same directory as training data\n",
        "    target_size=IMG_SIZE,\n",
        "    batch_size=BATCH_SIZE,\n",
        "    class_mode='categorical',\n",
        "    subset='validation') # set as validation data\n"
      ],
      "metadata": {
        "colab": {
          "base_uri": "https://localhost:8080/"
        },
        "id": "5Y_rjGbBlxia",
        "outputId": "1637bd18-39e2-42cf-a017-58a5aea48244"
      },
      "execution_count": null,
      "outputs": [
        {
          "output_type": "stream",
          "name": "stdout",
          "text": [
            "Found 1109 images belonging to 7 classes.\n"
          ]
        }
      ]
    },
    {
      "cell_type": "code",
      "source": [
        "model.model.evaluate(test_generator,\n",
        "    batch_size=None,\n",
        "    verbose='auto',\n",
        "    sample_weight=None,\n",
        "    steps=None,\n",
        "    callbacks=None,\n",
        "    max_queue_size=10,\n",
        "    workers=1)\n"
      ],
      "metadata": {
        "colab": {
          "base_uri": "https://localhost:8080/"
        },
        "id": "J63SgB9kmLRb",
        "outputId": "d3a64b22-0cfc-4782-8130-f229d92956fe"
      },
      "execution_count": null,
      "outputs": [
        {
          "output_type": "stream",
          "name": "stdout",
          "text": [
            "35/35 [==============================] - 375s 11s/step - loss: 0.5156 - acc: 0.8115 - recall_m: 0.7722 - precision_m: 0.8700 - f1_m: 0.8177\n"
          ]
        },
        {
          "output_type": "execute_result",
          "data": {
            "text/plain": [
              "[0.5156441330909729,\n",
              " 0.8115419149398804,\n",
              " 0.7721938490867615,\n",
              " 0.8700230717658997,\n",
              " 0.8177372217178345]"
            ]
          },
          "metadata": {},
          "execution_count": 28
        }
      ]
    }
  ],
  "metadata": {
    "accelerator": "GPU",
    "colab": {
      "provenance": []
    },
    "gpuClass": "standard",
    "kernelspec": {
      "display_name": "Python 3 (ipykernel)",
      "language": "python",
      "name": "python3"
    },
    "language_info": {
      "codemirror_mode": {
        "name": "ipython",
        "version": 3
      },
      "file_extension": ".py",
      "mimetype": "text/x-python",
      "name": "python",
      "nbconvert_exporter": "python",
      "pygments_lexer": "ipython3",
      "version": "3.10.6"
    }
  },
  "nbformat": 4,
  "nbformat_minor": 0
}